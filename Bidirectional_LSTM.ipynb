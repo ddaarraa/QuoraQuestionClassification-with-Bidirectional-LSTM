{
 "cells": [
  {
   "cell_type": "markdown",
   "id": "c6cf9a93",
   "metadata": {},
   "source": [
    "### Data Preparation\n"
   ]
  },
  {
   "cell_type": "code",
   "execution_count": 1,
   "id": "3c6eede8",
   "metadata": {},
   "outputs": [
    {
     "name": "stderr",
     "output_type": "stream",
     "text": [
      "/opt/anaconda3/lib/python3.9/site-packages/pandas/core/computation/expressions.py:21: UserWarning: Pandas requires version '2.8.4' or newer of 'numexpr' (version '2.8.1' currently installed).\n",
      "  from pandas.core.computation.check import NUMEXPR_INSTALLED\n",
      "/opt/anaconda3/lib/python3.9/site-packages/pandas/core/arrays/masked.py:60: UserWarning: Pandas requires version '1.3.6' or newer of 'bottleneck' (version '1.3.4' currently installed).\n",
      "  from pandas.core import (\n"
     ]
    }
   ],
   "source": [
    "import pandas as pd\n",
    "dataset = pd.read_csv(\"dataset.csv\")\n",
    "# dataset = dataset[dataset['Country'] == \"Thailand\"]\n",
    "# dataset = dataset[['postal code', 'latitude', 'longitude']]\n",
    "# # dataset[dataset['postal code'] == 10240]\n",
    "# columns = ['postal code', 'latitude', 'longitude']\n",
    "# dataset.to_csv('finalPostal.csv',columns=columns, index=False)"
   ]
  },
  {
   "cell_type": "code",
   "execution_count": 3,
   "id": "4174f191",
   "metadata": {},
   "outputs": [],
   "source": [
    "# import csv\n",
    "# import json\n",
    "\n",
    "# def csv_to_json(csv_file, json_file):\n",
    "#     # Read data from CSV file\n",
    "#     with open(csv_file, 'r') as csvfile:\n",
    "#         reader = csv.DictReader(csvfile)\n",
    "#         data = [row for row in reader]\n",
    "\n",
    "#     # Write data to JSON file\n",
    "#     with open(json_file, 'w') as jsonfile:\n",
    "#         json.dump(data, jsonfile, indent=4)\n",
    "\n",
    "# # Example usage\n",
    "# csv_file = 'finalPostal.csv'\n",
    "# json_file = 'data.json'\n",
    "# csv_to_json(csv_file, json_file)"
   ]
  },
  {
   "cell_type": "code",
   "execution_count": 2,
   "id": "03ec14fa",
   "metadata": {
    "scrolled": true
   },
   "outputs": [
    {
     "data": {
      "text/html": [
       "<div>\n",
       "<style scoped>\n",
       "    .dataframe tbody tr th:only-of-type {\n",
       "        vertical-align: middle;\n",
       "    }\n",
       "\n",
       "    .dataframe tbody tr th {\n",
       "        vertical-align: top;\n",
       "    }\n",
       "\n",
       "    .dataframe thead th {\n",
       "        text-align: right;\n",
       "    }\n",
       "</style>\n",
       "<table border=\"1\" class=\"dataframe\">\n",
       "  <thead>\n",
       "    <tr style=\"text-align: right;\">\n",
       "      <th></th>\n",
       "      <th>qid</th>\n",
       "      <th>question_text</th>\n",
       "      <th>target</th>\n",
       "    </tr>\n",
       "  </thead>\n",
       "  <tbody>\n",
       "    <tr>\n",
       "      <th>0</th>\n",
       "      <td>00002165364db923c7e6</td>\n",
       "      <td>How did Quebec nationalists see their province...</td>\n",
       "      <td>0</td>\n",
       "    </tr>\n",
       "    <tr>\n",
       "      <th>1</th>\n",
       "      <td>000032939017120e6e44</td>\n",
       "      <td>Do you have an adopted dog, how would you enco...</td>\n",
       "      <td>0</td>\n",
       "    </tr>\n",
       "    <tr>\n",
       "      <th>2</th>\n",
       "      <td>0000412ca6e4628ce2cf</td>\n",
       "      <td>Why does velocity affect time? Does velocity a...</td>\n",
       "      <td>0</td>\n",
       "    </tr>\n",
       "    <tr>\n",
       "      <th>3</th>\n",
       "      <td>000042bf85aa498cd78e</td>\n",
       "      <td>How did Otto von Guericke used the Magdeburg h...</td>\n",
       "      <td>0</td>\n",
       "    </tr>\n",
       "    <tr>\n",
       "      <th>4</th>\n",
       "      <td>0000455dfa3e01eae3af</td>\n",
       "      <td>Can I convert montra helicon D to a mountain b...</td>\n",
       "      <td>0</td>\n",
       "    </tr>\n",
       "    <tr>\n",
       "      <th>...</th>\n",
       "      <td>...</td>\n",
       "      <td>...</td>\n",
       "      <td>...</td>\n",
       "    </tr>\n",
       "    <tr>\n",
       "      <th>1306117</th>\n",
       "      <td>ffffcc4e2331aaf1e41e</td>\n",
       "      <td>What other technical skills do you need as a c...</td>\n",
       "      <td>0</td>\n",
       "    </tr>\n",
       "    <tr>\n",
       "      <th>1306118</th>\n",
       "      <td>ffffd431801e5a2f4861</td>\n",
       "      <td>Does MS in ECE have good job prospects in USA ...</td>\n",
       "      <td>0</td>\n",
       "    </tr>\n",
       "    <tr>\n",
       "      <th>1306119</th>\n",
       "      <td>ffffd48fb36b63db010c</td>\n",
       "      <td>Is foam insulation toxic?</td>\n",
       "      <td>0</td>\n",
       "    </tr>\n",
       "    <tr>\n",
       "      <th>1306120</th>\n",
       "      <td>ffffec519fa37cf60c78</td>\n",
       "      <td>How can one start a research project based on ...</td>\n",
       "      <td>0</td>\n",
       "    </tr>\n",
       "    <tr>\n",
       "      <th>1306121</th>\n",
       "      <td>ffffed09fedb5088744a</td>\n",
       "      <td>Who wins in a battle between a Wolverine and a...</td>\n",
       "      <td>0</td>\n",
       "    </tr>\n",
       "  </tbody>\n",
       "</table>\n",
       "<p>1306122 rows × 3 columns</p>\n",
       "</div>"
      ],
      "text/plain": [
       "                          qid  \\\n",
       "0        00002165364db923c7e6   \n",
       "1        000032939017120e6e44   \n",
       "2        0000412ca6e4628ce2cf   \n",
       "3        000042bf85aa498cd78e   \n",
       "4        0000455dfa3e01eae3af   \n",
       "...                       ...   \n",
       "1306117  ffffcc4e2331aaf1e41e   \n",
       "1306118  ffffd431801e5a2f4861   \n",
       "1306119  ffffd48fb36b63db010c   \n",
       "1306120  ffffec519fa37cf60c78   \n",
       "1306121  ffffed09fedb5088744a   \n",
       "\n",
       "                                             question_text  target  \n",
       "0        How did Quebec nationalists see their province...       0  \n",
       "1        Do you have an adopted dog, how would you enco...       0  \n",
       "2        Why does velocity affect time? Does velocity a...       0  \n",
       "3        How did Otto von Guericke used the Magdeburg h...       0  \n",
       "4        Can I convert montra helicon D to a mountain b...       0  \n",
       "...                                                    ...     ...  \n",
       "1306117  What other technical skills do you need as a c...       0  \n",
       "1306118  Does MS in ECE have good job prospects in USA ...       0  \n",
       "1306119                          Is foam insulation toxic?       0  \n",
       "1306120  How can one start a research project based on ...       0  \n",
       "1306121  Who wins in a battle between a Wolverine and a...       0  \n",
       "\n",
       "[1306122 rows x 3 columns]"
      ]
     },
     "execution_count": 2,
     "metadata": {},
     "output_type": "execute_result"
    }
   ],
   "source": [
    "import pandas as pd\n",
    "dataset = pd.read_csv(\"dataset.csv\")\n",
    "dataset"
   ]
  },
  {
   "cell_type": "markdown",
   "id": "0d1b6c29",
   "metadata": {},
   "source": [
    "The Data visualization "
   ]
  },
  {
   "cell_type": "code",
   "execution_count": 3,
   "id": "91accf7e",
   "metadata": {},
   "outputs": [
    {
     "name": "stdout",
     "output_type": "stream",
     "text": [
      "Class Distribution Before Balancing:\n",
      "target\n",
      "0    1225312\n",
      "1      80810\n",
      "Name: count, dtype: int64\n",
      "1\n",
      "80810\n",
      "\n",
      "Class Distribution After Balancing:\n",
      "target\n",
      "0    80810\n",
      "1    80810\n",
      "Name: count, dtype: int64\n"
     ]
    }
   ],
   "source": [
    "import pandas as pd\n",
    "import numpy as np\n",
    "\n",
    "\n",
    "\n",
    "# Check class distribution\n",
    "class_distribution = dataset['target'].value_counts()\n",
    "print(\"Class Distribution Before Balancing:\")\n",
    "print(class_distribution)\n",
    "\n",
    "# Determine the majority class and minority class\n",
    "majority_class = class_distribution.idxmax()\n",
    "minority_class = class_distribution.idxmin()\n",
    "print(minority_class)\n",
    "\n",
    "# Get the number of samples in the majority class\n",
    "majority_class_count = class_distribution[majority_class]\n",
    "minority_class_count = class_distribution[minority_class]\n",
    "print(minority_class_count)\n",
    "\n",
    "# Find indices of majority class samples\n",
    "majority_indices = dataset[dataset['target'] == majority_class].index\n",
    "\n",
    "# Randomly select majority class samples to drop\n",
    "drop_indices = np.random.choice(majority_indices, size=majority_class_count - minority_class_count, replace=False)\n",
    "\n",
    "# Drop selected majority class samples\n",
    "balanced_df = dataset.drop(drop_indices)\n",
    "\n",
    "# Check class distribution after balancing\n",
    "balanced_class_distribution = balanced_df['target'].value_counts()\n",
    "print(\"\\nClass Distribution After Balancing:\")\n",
    "print(balanced_class_distribution)\n"
   ]
  },
  {
   "cell_type": "code",
   "execution_count": 6,
   "id": "0c62293d",
   "metadata": {},
   "outputs": [
    {
     "ename": "SyntaxError",
     "evalue": "invalid syntax (1498216984.py, line 1)",
     "output_type": "error",
     "traceback": [
      "\u001b[0;36m  Input \u001b[0;32mIn [6]\u001b[0;36m\u001b[0m\n\u001b[0;31m    import matplotlib as\u001b[0m\n\u001b[0m                        ^\u001b[0m\n\u001b[0;31mSyntaxError\u001b[0m\u001b[0;31m:\u001b[0m invalid syntax\n"
     ]
    }
   ],
   "source": []
  },
  {
   "cell_type": "code",
   "execution_count": 4,
   "id": "d3d1cfc7",
   "metadata": {},
   "outputs": [],
   "source": [
    "#preprocessing text\n",
    "import nltk\n",
    "from nltk.tokenize import word_tokenize # \n",
    "from nltk.corpus import stopwords\n",
    "from nltk.stem import PorterStemmer\n",
    "\n",
    "# clean data และจัดการข้อความให้อยู่ในรูปแบบที่ง่ายต่อการเรียนรู้\n",
    "# เราจะใช้ library nltk ทำขั้นตอน preprocess ดังนี้\n",
    "# tokenization\n",
    "# stopword removal\n",
    "# stemming by using porter stemmer\n",
    "\n",
    "porter = PorterStemmer()\n",
    "def preprocess_text(text):\n",
    "    tokens = word_tokenize(text)\n",
    "    stop_words = set(stopwords.words(\"english\"))\n",
    "    filtered_tokens = [token.lower() for token in tokens if token.isalpha() and token.lower() not in stop_words]\n",
    "#     print(filtered_tokens)\n",
    "    return \" \".join(filtered_tokens)\n",
    "\n",
    "# preprocess all training data\n",
    "X_preprocessed = [preprocess_text(text) for text in balanced_df['question_text']]\n"
   ]
  },
  {
   "cell_type": "markdown",
   "id": "a3696dc9",
   "metadata": {},
   "source": [
    "### สร้าง Vector ของคำศัพท์ (Vectorizer)"
   ]
  },
  {
   "cell_type": "code",
   "execution_count": 6,
   "id": "35b5411c",
   "metadata": {},
   "outputs": [
    {
     "name": "stdout",
     "output_type": "stream",
     "text": [
      "50835\n",
      "reset hp notebook pc factory settings\n"
     ]
    }
   ],
   "source": [
    "# from sklearn.feature_extraction.text import CountVectorizer\n",
    "from sklearn.model_selection import train_test_split\n",
    "\n",
    "#divide dataset into to two pieces cosisted of training part and test part\n",
    "sentences_train, sentences_test, y_train, y_test = train_test_split(X_preprocessed,balanced_df['target'] , \n",
    "                                                                    test_size=0.25, \n",
    "                                                                   random_state=100)\n",
    "\n",
    "\n",
    "# ## สร้างคำศัพท์ที่ใช้เป็น feature จากข้อมูล train\n",
    "# vectorizer = CountVectorizer()\n",
    "# vectorizer.fit(sentences_train)\n",
    "\n",
    "# X_train = vectorizer.transform(sentences_train)\n",
    "# X_test = vectorizer.transform(sentences_test\n",
    "from keras.preprocessing.text import Tokenizer\n",
    "\n",
    "tokenizer = Tokenizer(num_words=10000)\n",
    "tokenizer.fit_on_texts(sentences_train)\n",
    "\n",
    "X_train = tokenizer.texts_to_sequences(sentences_train)\n",
    "X_test = tokenizer.texts_to_sequences(sentences_test)\n",
    "\n",
    "vocab_size = len(tokenizer.word_index) + 1  # Adding 1 because of reserved 0 index\n",
    "\n",
    "print(vocab_size)\n",
    "print(sentences_train[0])"
   ]
  },
  {
   "cell_type": "markdown",
   "id": "833e5a01",
   "metadata": {},
   "source": [
    "#### padding"
   ]
  },
  {
   "cell_type": "code",
   "execution_count": 7,
   "id": "d1959ebd",
   "metadata": {},
   "outputs": [
    {
     "name": "stdout",
     "output_type": "stream",
     "text": [
      "X_train vector shape = (121215, 217)\n",
      "X_test vector shape = (40405, 217)\n"
     ]
    }
   ],
   "source": [
    "from keras.preprocessing import sequence\n",
    "\n",
    "max_len = 217 # most of sentences' length statistically lay between 10-183\n",
    "\n",
    "X_train_padded = sequence.pad_sequences(X_train,padding='post', maxlen= max_len)\n",
    "X_test_padded = sequence.pad_sequences(X_test,padding='post', maxlen = max_len)\n",
    "\n",
    "print(\"X_train vector shape = {}\".format(X_train_padded.shape))\n",
    "print(\"X_test vector shape = {}\".format(X_test_padded.shape))\n"
   ]
  },
  {
   "cell_type": "markdown",
   "id": "fc7ae7ac",
   "metadata": {},
   "source": [
    "#### สร้างตัวจำแนก classifier โดยเลือกใช้  Bidirectional LSTM"
   ]
  },
  {
   "cell_type": "code",
   "execution_count": 8,
   "id": "cc445601",
   "metadata": {},
   "outputs": [
    {
     "name": "stdout",
     "output_type": "stream",
     "text": [
      "Model: \"sequential\"\n",
      "_________________________________________________________________\n",
      " Layer (type)                Output Shape              Param #   \n",
      "=================================================================\n",
      " embedding (Embedding)       (None, 217, 100)          5082000   \n",
      "                                                                 \n",
      " bidirectional (Bidirection  (None, 128)               84480     \n",
      " al)                                                             \n",
      "                                                                 \n",
      " dense (Dense)               (None, 10)                1290      \n",
      "                                                                 \n",
      " dropout (Dropout)           (None, 10)                0         \n",
      "                                                                 \n",
      " dense_1 (Dense)             (None, 1)                 11        \n",
      "                                                                 \n",
      "=================================================================\n",
      "Total params: 5167781 (19.71 MB)\n",
      "Trainable params: 5167781 (19.71 MB)\n",
      "Non-trainable params: 0 (0.00 Byte)\n",
      "_________________________________________________________________\n"
     ]
    }
   ],
   "source": [
    "from keras.models import Sequential\n",
    "from keras.layers import Dense, LSTM, Bidirectional, Embedding, Dropout\n",
    "from tensorflow.keras.backend import clear_session\n",
    "clear_session()\n",
    "\n",
    "input_dimension = 50820 # based on total amount of vocabulary\n",
    "\n",
    "model = Sequential()\n",
    "\n",
    "# adding layers on top of one another\n",
    "\n",
    "model.add(Embedding(input_dim=input_dimension , output_dim=100, input_length=max_len))#embedding layer\n",
    "#consider output_dimension as hyperparameter ,then 100 was the best tunning value of output_dim \n",
    "\n",
    "model.add(Bidirectional(LSTM(64)))\n",
    "\n",
    "# model.add(Dropout(0.5))\n",
    "\n",
    "model.add(Dense(10, activation = 'relu' ))# second layer, dense layer using relu as activation function  \n",
    "model.add(Dropout(0.5)) \n",
    "# model.add(Dense(20, activation = 'relu' ))\n",
    "model.add(Dense(1, activation='sigmoid')) # dense layer , use sigmoid function to produce 1 or 0 output\n",
    "# we'll use softmax activation function for multiclass classification\n",
    "model.compile(optimizer='adam',\n",
    "              loss='binary_crossentropy',\n",
    "              metrics=['accuracy']) # use binary_crossentropy loss function for binary target classification\n",
    "model.summary()\n"
   ]
  },
  {
   "cell_type": "code",
   "execution_count": 9,
   "id": "8e2cd1b8",
   "metadata": {},
   "outputs": [
    {
     "name": "stdout",
     "output_type": "stream",
     "text": [
      "Epoch 1/5\n",
      "947/947 [==============================] - 645s 678ms/step - loss: 0.3880 - accuracy: 0.8471 - val_loss: 0.3020 - val_accuracy: 0.8791\n",
      "Epoch 2/5\n",
      "947/947 [==============================] - 561s 592ms/step - loss: 0.3131 - accuracy: 0.8871 - val_loss: 0.2976 - val_accuracy: 0.8822\n",
      "Epoch 3/5\n",
      "947/947 [==============================] - 556s 587ms/step - loss: 0.2847 - accuracy: 0.8958 - val_loss: 0.3158 - val_accuracy: 0.8793\n",
      "Epoch 4/5\n",
      "947/947 [==============================] - 548s 578ms/step - loss: 0.2554 - accuracy: 0.9056 - val_loss: 0.3323 - val_accuracy: 0.8765\n",
      "Epoch 5/5\n",
      "947/947 [==============================] - 545s 576ms/step - loss: 0.2324 - accuracy: 0.9132 - val_loss: 0.3794 - val_accuracy: 0.8704\n"
     ]
    }
   ],
   "source": [
    "score = model.fit(x=X_train_padded, y= y_train, \n",
    "                      epochs=5,\n",
    "                     verbose=True,\n",
    "                     validation_data=(X_test_padded, y_test),\n",
    "                     batch_size=128)"
   ]
  },
  {
   "cell_type": "code",
   "execution_count": 14,
   "id": "a9532e5b",
   "metadata": {},
   "outputs": [],
   "source": [
    "import matplotlib.pyplot as plt\n",
    "plt.style.use('ggplot')\n",
    "\n",
    "def plot_history(history):\n",
    "    acc = history.history['accuracy']\n",
    "    val_acc = history.history['val_accuracy']\n",
    "    loss = history.history['loss']\n",
    "    val_loss = history.history['val_loss']\n",
    "    x = range(1, len(acc) + 1)\n",
    "\n",
    "    plt.figure(figsize=(12, 5))\n",
    "    plt.subplot(1, 2, 1)\n",
    "    plt.plot(x, acc, 'b', label='Training acc')\n",
    "    plt.plot(x, val_acc, 'r', label='Validation acc')\n",
    "    plt.tick_params(axis='both', colors='black')\n",
    "    plt.title('Training and validation accuracy')\n",
    "    plt.legend()\n",
    "    plt.subplot(1, 2, 2)\n",
    "    plt.plot(x, loss, 'b', label='Training loss')\n",
    "    plt.plot(x, val_loss, 'r', label='Validation loss')\n",
    "    plt.tick_params(axis='both', colors='black')\n",
    "    plt.title('Training and validation loss')\n",
    "    plt.legend()"
   ]
  },
  {
   "cell_type": "code",
   "execution_count": 15,
   "id": "1a89d07b",
   "metadata": {
    "scrolled": true
   },
   "outputs": [
    {
     "data": {
      "image/png": "[encoded data removed]",
      "text/plain": [
       "<Figure size 864x360 with 2 Axes>"
      ]
     },
     "metadata": {},
     "output_type": "display_data"
    }
   ],
   "source": [
    "plot_history(score)"
   ]
  },
  {
   "cell_type": "code",
   "execution_count": null,
   "id": "57516051",
   "metadata": {},
   "outputs": [],
   "source": []
  },
  {
   "cell_type": "code",
   "execution_count": 16,
   "id": "5d5de3da",
   "metadata": {},
   "outputs": [
    {
     "name": "stdout",
     "output_type": "stream",
     "text": [
      "Training Accuracy: 0.9351\n",
      "Testing Accuracy:  0.8704\n"
     ]
    }
   ],
   "source": [
    "loss, accuracy = model.evaluate(X_train_padded, y_train, verbose=False)\n",
    "print(\"Training Accuracy: {:.4f}\".format(accuracy))\n",
    "loss, accuracy = model.evaluate(X_test_padded, y_test, verbose=False)\n",
    "print(\"Testing Accuracy:  {:.4f}\".format(accuracy))"
   ]
  },
  {
   "cell_type": "code",
   "execution_count": 18,
   "id": "431c9633",
   "metadata": {},
   "outputs": [
    {
     "name": "stdout",
     "output_type": "stream",
     "text": [
      "1263/1263 [==============================] - 27s 21ms/step\n"
     ]
    }
   ],
   "source": [
    "predicted = model.predict(X_test_padded)\n",
    "predicted = [1 if predict >= 0.5 else 0 for predict in predicted]"
   ]
  },
  {
   "cell_type": "code",
   "execution_count": 19,
   "id": "0618fded",
   "metadata": {},
   "outputs": [
    {
     "data": {
      "image/png": "[encoded data removed]",
      "text/plain": [
       "<Figure size 576x432 with 2 Axes>"
      ]
     },
     "metadata": {},
     "output_type": "display_data"
    }
   ],
   "source": [
    "import numpy as np\n",
    "import matplotlib.pyplot as plt\n",
    "import seaborn as sns\n",
    "from sklearn.metrics import confusion_matrix\n",
    "\n",
    "cm = confusion_matrix(y_test, predicted)\n",
    "\n",
    "# Plot confusion matrix\n",
    "plt.figure(figsize=(8, 6))\n",
    "sns.set(font_scale=1.2)  # Adjust font size\n",
    "sns.heatmap(cm, annot=True, fmt=\"d\", cmap=\"Blues\", xticklabels=np.unique(y_test), yticklabels=np.unique(y_test))\n",
    "plt.xlabel('Predicted Labels')\n",
    "plt.ylabel('True Labels')\n",
    "plt.title('Confusion Matrix of Bidirection_LSTM')\n",
    "plt.show()"
   ]
  },
  {
   "cell_type": "code",
   "execution_count": null,
   "id": "7794a4c2",
   "metadata": {},
   "outputs": [],
   "source": []
  }
 ],
 "metadata": {
  "kernelspec": {
   "display_name": "Python 3 (ipykernel)",
   "language": "python",
   "name": "python3"
  },
  "language_info": {
   "codemirror_mode": {
    "name": "ipython",
    "version": 3
   },
   "file_extension": ".py",
   "mimetype": "text/x-python",
   "name": "python",
   "nbconvert_exporter": "python",
   "pygments_lexer": "ipython3",
   "version": "3.9.12"
  }
 },
 "nbformat": 4,
 "nbformat_minor": 5
}
