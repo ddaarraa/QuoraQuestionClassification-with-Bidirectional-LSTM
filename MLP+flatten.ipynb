{
 "cells": [
  {
   "cell_type": "markdown",
   "id": "defe71e4",
   "metadata": {},
   "source": [
    "### Data preperation"
   ]
  },
  {
   "cell_type": "code",
   "execution_count": 1,
   "id": "7c283fe9",
   "metadata": {},
   "outputs": [
    {
     "name": "stderr",
     "output_type": "stream",
     "text": [
      "/opt/anaconda3/lib/python3.9/site-packages/pandas/core/computation/expressions.py:21: UserWarning: Pandas requires version '2.8.4' or newer of 'numexpr' (version '2.8.1' currently installed).\n",
      "  from pandas.core.computation.check import NUMEXPR_INSTALLED\n",
      "/opt/anaconda3/lib/python3.9/site-packages/pandas/core/arrays/masked.py:60: UserWarning: Pandas requires version '1.3.6' or newer of 'bottleneck' (version '1.3.4' currently installed).\n",
      "  from pandas.core import (\n"
     ]
    }
   ],
   "source": [
    "import pandas as pd"
   ]
  },
  {
   "cell_type": "code",
   "execution_count": 2,
   "id": "d60b4ffd",
   "metadata": {},
   "outputs": [],
   "source": [
    "dataset = pd.read_csv(\"dataset.csv\")\n"
   ]
  },
  {
   "cell_type": "code",
   "execution_count": 4,
   "id": "9e4413ae",
   "metadata": {},
   "outputs": [
    {
     "data": {
      "text/plain": [
       "qid              1306122\n",
       "question_text    1306122\n",
       "target           1306122\n",
       "dtype: int64"
      ]
     },
     "execution_count": 4,
     "metadata": {},
     "output_type": "execute_result"
    }
   ],
   "source": [
    "dataset.count()"
   ]
  },
  {
   "cell_type": "code",
   "execution_count": 4,
   "id": "8c42506b",
   "metadata": {
    "scrolled": true
   },
   "outputs": [],
   "source": [
    "# dataset = dataset1[:100000]"
   ]
  },
  {
   "cell_type": "code",
   "execution_count": 5,
   "id": "b37e3101",
   "metadata": {},
   "outputs": [
    {
     "name": "stdout",
     "output_type": "stream",
     "text": [
      "<class 'pandas.core.frame.DataFrame'>\n",
      "RangeIndex: 1306122 entries, 0 to 1306121\n",
      "Data columns (total 3 columns):\n",
      " #   Column         Non-Null Count    Dtype \n",
      "---  ------         --------------    ----- \n",
      " 0   qid            1306122 non-null  object\n",
      " 1   question_text  1306122 non-null  object\n",
      " 2   target         1306122 non-null  int64 \n",
      "dtypes: int64(1), object(2)\n",
      "memory usage: 29.9+ MB\n",
      "None\n"
     ]
    }
   ],
   "source": [
    "print(dataset.info())"
   ]
  },
  {
   "cell_type": "code",
   "execution_count": 6,
   "id": "fa4b4e6e",
   "metadata": {},
   "outputs": [
    {
     "name": "stdout",
     "output_type": "stream",
     "text": [
      "count                                               1306122\n",
      "unique                                              1306122\n",
      "top       How did Quebec nationalists see their province...\n",
      "freq                                                      1\n",
      "Name: question_text, dtype: object\n"
     ]
    }
   ],
   "source": [
    "print(dataset['question_text'].describe())"
   ]
  },
  {
   "cell_type": "code",
   "execution_count": 7,
   "id": "c3eabcc7",
   "metadata": {},
   "outputs": [
    {
     "name": "stdout",
     "output_type": "stream",
     "text": [
      "count    1.306122e+06\n",
      "mean     6.187018e-02\n",
      "std      2.409197e-01\n",
      "min      0.000000e+00\n",
      "25%      0.000000e+00\n",
      "50%      0.000000e+00\n",
      "75%      0.000000e+00\n",
      "max      1.000000e+00\n",
      "Name: target, dtype: float64\n"
     ]
    }
   ],
   "source": [
    "print(dataset['target'].describe())"
   ]
  },
  {
   "cell_type": "code",
   "execution_count": 4,
   "id": "6a5857d0",
   "metadata": {},
   "outputs": [
    {
     "data": {
      "text/html": [
       "<div>\n",
       "<style scoped>\n",
       "    .dataframe tbody tr th:only-of-type {\n",
       "        vertical-align: middle;\n",
       "    }\n",
       "\n",
       "    .dataframe tbody tr th {\n",
       "        vertical-align: top;\n",
       "    }\n",
       "\n",
       "    .dataframe thead th {\n",
       "        text-align: right;\n",
       "    }\n",
       "</style>\n",
       "<table border=\"1\" class=\"dataframe\">\n",
       "  <thead>\n",
       "    <tr style=\"text-align: right;\">\n",
       "      <th></th>\n",
       "      <th>qid</th>\n",
       "      <th>question_text</th>\n",
       "      <th>target</th>\n",
       "    </tr>\n",
       "  </thead>\n",
       "  <tbody>\n",
       "    <tr>\n",
       "      <th>0</th>\n",
       "      <td>00002165364db923c7e6</td>\n",
       "      <td>How did Quebec nationalists see their province...</td>\n",
       "      <td>0</td>\n",
       "    </tr>\n",
       "    <tr>\n",
       "      <th>1</th>\n",
       "      <td>000032939017120e6e44</td>\n",
       "      <td>Do you have an adopted dog, how would you enco...</td>\n",
       "      <td>0</td>\n",
       "    </tr>\n",
       "    <tr>\n",
       "      <th>2</th>\n",
       "      <td>0000412ca6e4628ce2cf</td>\n",
       "      <td>Why does velocity affect time? Does velocity a...</td>\n",
       "      <td>0</td>\n",
       "    </tr>\n",
       "    <tr>\n",
       "      <th>3</th>\n",
       "      <td>000042bf85aa498cd78e</td>\n",
       "      <td>How did Otto von Guericke used the Magdeburg h...</td>\n",
       "      <td>0</td>\n",
       "    </tr>\n",
       "    <tr>\n",
       "      <th>4</th>\n",
       "      <td>0000455dfa3e01eae3af</td>\n",
       "      <td>Can I convert montra helicon D to a mountain b...</td>\n",
       "      <td>0</td>\n",
       "    </tr>\n",
       "    <tr>\n",
       "      <th>...</th>\n",
       "      <td>...</td>\n",
       "      <td>...</td>\n",
       "      <td>...</td>\n",
       "    </tr>\n",
       "    <tr>\n",
       "      <th>1306117</th>\n",
       "      <td>ffffcc4e2331aaf1e41e</td>\n",
       "      <td>What other technical skills do you need as a c...</td>\n",
       "      <td>0</td>\n",
       "    </tr>\n",
       "    <tr>\n",
       "      <th>1306118</th>\n",
       "      <td>ffffd431801e5a2f4861</td>\n",
       "      <td>Does MS in ECE have good job prospects in USA ...</td>\n",
       "      <td>0</td>\n",
       "    </tr>\n",
       "    <tr>\n",
       "      <th>1306119</th>\n",
       "      <td>ffffd48fb36b63db010c</td>\n",
       "      <td>Is foam insulation toxic?</td>\n",
       "      <td>0</td>\n",
       "    </tr>\n",
       "    <tr>\n",
       "      <th>1306120</th>\n",
       "      <td>ffffec519fa37cf60c78</td>\n",
       "      <td>How can one start a research project based on ...</td>\n",
       "      <td>0</td>\n",
       "    </tr>\n",
       "    <tr>\n",
       "      <th>1306121</th>\n",
       "      <td>ffffed09fedb5088744a</td>\n",
       "      <td>Who wins in a battle between a Wolverine and a...</td>\n",
       "      <td>0</td>\n",
       "    </tr>\n",
       "  </tbody>\n",
       "</table>\n",
       "<p>1225312 rows × 3 columns</p>\n",
       "</div>"
      ],
      "text/plain": [
       "                          qid  \\\n",
       "0        00002165364db923c7e6   \n",
       "1        000032939017120e6e44   \n",
       "2        0000412ca6e4628ce2cf   \n",
       "3        000042bf85aa498cd78e   \n",
       "4        0000455dfa3e01eae3af   \n",
       "...                       ...   \n",
       "1306117  ffffcc4e2331aaf1e41e   \n",
       "1306118  ffffd431801e5a2f4861   \n",
       "1306119  ffffd48fb36b63db010c   \n",
       "1306120  ffffec519fa37cf60c78   \n",
       "1306121  ffffed09fedb5088744a   \n",
       "\n",
       "                                             question_text  target  \n",
       "0        How did Quebec nationalists see their province...       0  \n",
       "1        Do you have an adopted dog, how would you enco...       0  \n",
       "2        Why does velocity affect time? Does velocity a...       0  \n",
       "3        How did Otto von Guericke used the Magdeburg h...       0  \n",
       "4        Can I convert montra helicon D to a mountain b...       0  \n",
       "...                                                    ...     ...  \n",
       "1306117  What other technical skills do you need as a c...       0  \n",
       "1306118  Does MS in ECE have good job prospects in USA ...       0  \n",
       "1306119                          Is foam insulation toxic?       0  \n",
       "1306120  How can one start a research project based on ...       0  \n",
       "1306121  Who wins in a battle between a Wolverine and a...       0  \n",
       "\n",
       "[1225312 rows x 3 columns]"
      ]
     },
     "execution_count": 4,
     "metadata": {},
     "output_type": "execute_result"
    }
   ],
   "source": [
    "dataset.loc[dataset['target']== 0]"
   ]
  },
  {
   "cell_type": "code",
   "execution_count": 8,
   "id": "73859c1b",
   "metadata": {},
   "outputs": [
    {
     "data": {
      "text/plain": [
       "'How did Quebec nationalists see their province as a nation in the 1960s?'"
      ]
     },
     "execution_count": 8,
     "metadata": {},
     "output_type": "execute_result"
    }
   ],
   "source": [
    "dataset[\"question_text\"][0]"
   ]
  },
  {
   "cell_type": "code",
   "execution_count": 11,
   "id": "cd9116a8",
   "metadata": {
    "scrolled": true
   },
   "outputs": [
    {
     "data": {
      "text/plain": [
       "'Has the United States become the largest dictatorship in the world?'"
      ]
     },
     "execution_count": 11,
     "metadata": {},
     "output_type": "execute_result"
    }
   ],
   "source": [
    "dataset[\"question_text\"][22]"
   ]
  },
  {
   "cell_type": "code",
   "execution_count": 8,
   "id": "8a770400",
   "metadata": {},
   "outputs": [
    {
     "data": {
      "image/png": "[encoded data removed]",
      "text/plain": [
       "<Figure size 576x432 with 1 Axes>"
      ]
     },
     "metadata": {
      "needs_background": "light"
     },
     "output_type": "display_data"
    }
   ],
   "source": [
    "import matplotlib.pyplot as plt\n",
    "from collections import Counter\n",
    "\n",
    "# Assuming you have already defined dataset and imported necessary libraries\n",
    "\n",
    "# Counting the frequency of each class in the dataset\n",
    "element_count = Counter(dataset['target'])\n",
    "\n",
    "# Extracting elements and their counts\n",
    "elements = list(element_count.keys())\n",
    "counts = list(element_count.values())\n",
    "\n",
    "# Plotting\n",
    "plt.figure(figsize=(8, 6))\n",
    "bars = plt.bar(elements, counts, color='blue')\n",
    "plt.xlabel('Elements', color=\"black\")  # Change the color of the x-axis label\n",
    "plt.ylabel('Frequency', color=\"black\")  # Change the color of the y-axis label\n",
    "plt.title('Distinctive Elements Frequency', color=\"black\")  # Change the color of the title\n",
    "\n",
    "# Change the font color of the tick labels on the x and y axes\n",
    "plt.xticks(color=\"black\")\n",
    "plt.yticks(color=\"black\")\n",
    "\n",
    "# Change the font color of the counts on top of the bars\n",
    "for bar in bars:\n",
    "    height = bar.get_height()\n",
    "    plt.text(bar.get_x() + bar.get_width() / 2, height, height, ha='center', va='bottom', color=\"black\")\n",
    "\n",
    "plt.show()"
   ]
  },
  {
   "cell_type": "code",
   "execution_count": 3,
   "id": "c38dd058",
   "metadata": {},
   "outputs": [
    {
     "name": "stdout",
     "output_type": "stream",
     "text": [
      "Class Distribution Before Balancing:\n",
      "target\n",
      "0    1225312\n",
      "1      80810\n",
      "Name: count, dtype: int64\n",
      "1\n",
      "80810\n",
      "\n",
      "Class Distribution After Balancing:\n",
      "target\n",
      "0    80810\n",
      "1    80810\n",
      "Name: count, dtype: int64\n"
     ]
    }
   ],
   "source": [
    "import pandas as pd\n",
    "import numpy as np\n",
    "\n",
    "\n",
    "\n",
    "# Check class distribution\n",
    "class_distribution = dataset['target'].value_counts()\n",
    "print(\"Class Distribution Before Balancing:\")\n",
    "print(class_distribution)\n",
    "\n",
    "# Determine the majority class and minority class\n",
    "majority_class = class_distribution.idxmax()\n",
    "minority_class = class_distribution.idxmin()\n",
    "print(minority_class)\n",
    "\n",
    "# Get the number of samples in the majority class\n",
    "majority_class_count = class_distribution[majority_class]\n",
    "minority_class_count = class_distribution[minority_class]\n",
    "print(minority_class_count)\n",
    "\n",
    "# Find indices of majority class samples\n",
    "majority_indices = dataset[dataset['target'] == majority_class].index\n",
    "\n",
    "# Randomly select majority class samples to drop\n",
    "drop_indices = np.random.choice(majority_indices, size=majority_class_count - minority_class_count, replace=False)\n",
    "\n",
    "# Drop selected majority class samples\n",
    "balanced_df = dataset.drop(drop_indices)\n",
    "\n",
    "# Check class distribution after balancing\n",
    "balanced_class_distribution = balanced_df['target'].value_counts()\n",
    "print(\"\\nClass Distribution After Balancing:\")\n",
    "print(balanced_class_distribution)\n"
   ]
  },
  {
   "cell_type": "code",
   "execution_count": 5,
   "id": "23e566fb",
   "metadata": {},
   "outputs": [
    {
     "data": {
      "image/png": "[encoded data removed]",
      "text/plain": [
       "<Figure size 576x432 with 1 Axes>"
      ]
     },
     "metadata": {
      "needs_background": "light"
     },
     "output_type": "display_data"
    }
   ],
   "source": [
    "import matplotlib.pyplot as plt\n",
    "from collections import Counter\n",
    "\n",
    "# Assuming you have already defined dataset and imported necessary libraries\n",
    "\n",
    "# Counting the frequency of each class in the dataset\n",
    "element_count = Counter(balanced_df['target'])\n",
    "\n",
    "# Extracting elements and their counts\n",
    "elements = list(element_count.keys())\n",
    "counts = list(element_count.values())\n",
    "\n",
    "# Plotting\n",
    "plt.figure(figsize=(8, 6))\n",
    "bars = plt.bar(elements, counts, color='cyan')\n",
    "plt.xlabel('Elements', color=\"black\")  # Change the color of the x-axis label\n",
    "plt.ylabel('Frequency', color=\"black\")  # Change the color of the y-axis label\n",
    "plt.title('Distinctive Elements Frequency', color=\"black\")  # Change the color of the title\n",
    "\n",
    "# Change the font color of the tick labels on the x and y axes\n",
    "plt.xticks(color=\"black\")\n",
    "plt.yticks(color=\"black\")\n",
    "\n",
    "# Change the font color of the counts on top of the bars\n",
    "for bar in bars:\n",
    "    height = bar.get_height()\n",
    "    plt.text(bar.get_x() + bar.get_width() / 2, height, height, ha='center', va='bottom', color=\"black\")\n",
    "\n",
    "plt.show()"
   ]
  },
  {
   "cell_type": "code",
   "execution_count": 281,
   "id": "8eaa6e5e",
   "metadata": {},
   "outputs": [],
   "source": [
    "#preprocessing text\n",
    "import nltk\n",
    "from nltk.tokenize import word_tokenize # \n",
    "from nltk.corpus import stopwords\n",
    "from nltk.stem import PorterStemmer\n",
    "\n",
    "# clean data และจัดการข้อความให้อยู่ในรูปแบบที่ง่ายต่อการเรียนรู้\n",
    "# เราจะใช้ library nltk ทำขั้นตอน preprocess ดังนี้\n",
    "# tokenization\n",
    "# stopword removal\n",
    "# stemming by using porter stemmer\n",
    "\n",
    "porter = PorterStemmer()\n",
    "def preprocess_text(text):\n",
    "    tokens = word_tokenize(text)\n",
    "    stop_words = set(stopwords.words(\"english\"))\n",
    "    filtered_tokens = [token.lower() for token in tokens if token.isalpha() and token.lower() not in stop_words]\n",
    "#     print(filtered_tokens)\n",
    "    return \" \".join(filtered_tokens)\n",
    "\n",
    "# preprocess all training data\n",
    "X_preprocessed = [preprocess_text(text) for text in balanced_df['question_text']]\n",
    "\n"
   ]
  },
  {
   "cell_type": "code",
   "execution_count": null,
   "id": "1f7f5d3d",
   "metadata": {},
   "outputs": [],
   "source": []
  },
  {
   "cell_type": "markdown",
   "id": "cbbc42ee",
   "metadata": {},
   "source": [
    "### สร้าง Vector ของคำศัพท์ (Vectorizer)"
   ]
  },
  {
   "cell_type": "code",
   "execution_count": null,
   "id": "45034570",
   "metadata": {},
   "outputs": [],
   "source": []
  },
  {
   "cell_type": "code",
   "execution_count": 298,
   "id": "1a7f9110",
   "metadata": {
    "scrolled": true
   },
   "outputs": [],
   "source": [
    "from sklearn.feature_extraction.text import CountVectorizer\n",
    "from sklearn.model_selection import train_test_split\n",
    "\n",
    "# #divide dataset into to two pieces cosisted of training part and test part\n",
    "sentences_train, sentences_test, y_train, y_test = train_test_split(X_preprocessed,balanced_df['target'] , \n",
    "                                                                    test_size=0.25,shuffle= False ,\n",
    "                                                                   random_state=100)\n",
    "\n",
    "\n",
    "# ## สร้างคำศัพท์ที่ใช้เป็น feature จากข้อมูล train\n",
    "vectorizer = CountVectorizer()\n",
    "vectorizer.fit(sentences_train)\n",
    "\n",
    "X_train = vectorizer.transform(sentences_train)\n",
    "X_test = vectorizer.transform(sentences_test)\n",
    "from keras.preprocessing.text import Tokenizer\n",
    "\n",
    "tokenizer = Tokenizer(num_words=10000)\n",
    "tokenizer.fit_on_texts(sentences_train)\n",
    "\n",
    "X_train = tokenizer.texts_to_sequences(sentences_train)\n",
    "X_test = tokenizer.texts_to_sequences(sentences_test)\n",
    "\n",
    "vocab_size = len(tokenizer.word_index) + 1  # Adding 1 because of reserved 0 index\n",
    "\n",
    "\n"
   ]
  },
  {
   "cell_type": "code",
   "execution_count": 313,
   "id": "fca698bf",
   "metadata": {},
   "outputs": [
    {
     "name": "stdout",
     "output_type": "stream",
     "text": [
      "50870\n",
      "[3819, 545, 28, 3819, 545, 577, 7154]\n"
     ]
    }
   ],
   "source": [
    "print(vocab_size)\n",
    "# print(sentences_train[0])\n",
    "print(X_train[0])\n",
    "# print(balanced_df['question_text'][2])"
   ]
  },
  {
   "cell_type": "code",
   "execution_count": 38,
   "id": "81e03334",
   "metadata": {},
   "outputs": [],
   "source": [
    "           # จำนวน feature = จำนวน vocab = 114950\n",
    "        # จำนวน sentence = 979591"
   ]
  },
  {
   "cell_type": "code",
   "execution_count": 311,
   "id": "0e6438c8",
   "metadata": {},
   "outputs": [
    {
     "data": {
      "image/png": "[encoded data removed]",
      "text/plain": [
       "<Figure size 432x288 with 1 Axes>"
      ]
     },
     "metadata": {},
     "output_type": "display_data"
    },
    {
     "name": "stdout",
     "output_type": "stream",
     "text": [
      "Mean length: 51.62382543414594\n",
      "Median length: 43.0\n",
      "Mode length: 29\n",
      "Standard deviation: 32.010246316739135\n",
      "Max Length:  217\n"
     ]
    }
   ],
   "source": [
    "import matplotlib.pyplot as plt\n",
    "import numpy as np\n",
    "import statistics\n",
    "\n",
    "# Calculate the lengths of each sentence\n",
    "sentence_length = [len(sentence) for sentence in sentences_train]\n",
    "\n",
    "# Plotting the histogram\n",
    "plt.hist(sentence_length, bins=range(min(sentence_length), max(sentence_length) + 1), edgecolor='black')\n",
    "plt.xlabel('Sentence Length')\n",
    "plt.ylabel('Frequency')\n",
    "plt.title('Distribution of Sentence Lengths')\n",
    "plt.grid(True)\n",
    "plt.show()\n",
    "\n",
    "\n",
    "# Calculate mean, median, and standard deviation\n",
    "mean_length = np.mean(sentence_length)\n",
    "max_len = np.max(sentence_length)\n",
    "median_length = np.median(sentence_length)\n",
    "mode_length = statistics.mode(sentence_length)\n",
    "std_deviation = np.std(sentence_length)\n",
    "\n",
    "print(\"Mean length:\", mean_length)\n",
    "print(\"Median length:\", median_length)\n",
    "print(\"Mode length:\", mode_length)\n",
    "print(\"Standard deviation:\", std_deviation)\n",
    "print(\"Max Length: \", max_len)"
   ]
  },
  {
   "cell_type": "code",
   "execution_count": 187,
   "id": "ebcd9d44",
   "metadata": {},
   "outputs": [
    {
     "name": "stdout",
     "output_type": "stream",
     "text": [
      "[0, 1, 2, 3, 4, 5, 6, 7, 8, 9, 10, 11, 12, 13, 14, 15, 16, 17, 18, 19, 20, 21, 22, 23, 24, 25, 26, 27, 28, 29, 30, 31, 32, 33, 34, 35, 36, 37, 38, 39, 40, 41, 42, 43, 44, 45, 46, 47, 48, 49, 50, 51, 52, 53, 54, 55, 56, 57, 58, 59, 60, 61, 62, 63, 64, 65, 66, 67, 68, 69, 70, 71, 72, 73, 74, 75, 76, 77, 78, 79, 80, 81, 82, 83, 84, 85, 86, 87, 88, 89, 90, 91, 92, 93, 94, 95, 96, 97, 98, 99, 100, 101, 102, 103, 104, 105, 106, 107, 108, 109, 110, 111, 112, 113, 114, 115, 116, 117, 118, 119, 120, 121, 122, 123, 124, 125, 126, 127, 128, 129, 130, 131, 132, 133, 134, 135, 136, 137, 138, 139, 140, 141, 142, 143, 144, 145, 146, 147, 148, 149, 150, 151, 152, 153, 154, 155, 156, 157, 158, 159, 160, 161, 162, 163, 164, 165, 166, 167, 168, 169, 170, 171, 172, 173, 174, 175, 176, 178, 179, 180, 191, 206, 207, 208]\n"
     ]
    }
   ],
   "source": [
    "unique_length = set(sentence_length)\n",
    "print(list(unique_length))"
   ]
  },
  {
   "cell_type": "markdown",
   "id": "3c9f838d",
   "metadata": {},
   "source": [
    "#### padding"
   ]
  },
  {
   "cell_type": "code",
   "execution_count": 316,
   "id": "b24bdcc3",
   "metadata": {},
   "outputs": [
    {
     "name": "stdout",
     "output_type": "stream",
     "text": [
      "X_train vector shape = (121215, 217)\n",
      "X_test vector shape = (40405, 217)\n"
     ]
    }
   ],
   "source": [
    "from keras.preprocessing import sequence\n",
    "\n",
    "max_len = 217 # most of sentences' length statistically lay between 10-100, but this case will choose 217 max values\n",
    "\n",
    "X_train_padded = sequence.pad_sequences(X_train,padding='post', maxlen= max_len)\n",
    "X_test_padded = sequence.pad_sequences(X_test,padding='post', maxlen = max_len)\n",
    "\n",
    "print(\"X_train vector shape = {}\".format(X_train_padded.shape))\n",
    "print(\"X_test vector shape = {}\".format(X_test_padded.shape))\n"
   ]
  },
  {
   "cell_type": "code",
   "execution_count": 317,
   "id": "d56a7e30",
   "metadata": {},
   "outputs": [
    {
     "name": "stdout",
     "output_type": "stream",
     "text": [
      "[3819  545   28 3819  545  577 7154    0    0    0    0    0    0    0\n",
      "    0    0    0    0    0    0    0    0    0    0    0    0    0    0\n",
      "    0    0    0    0    0    0    0    0    0    0    0    0    0    0\n",
      "    0    0    0    0    0    0    0    0    0    0    0    0    0    0\n",
      "    0    0    0    0    0    0    0    0    0    0    0    0    0    0\n",
      "    0    0    0    0    0    0    0    0    0    0    0    0    0    0\n",
      "    0    0    0    0    0    0    0    0    0    0    0    0    0    0\n",
      "    0    0    0    0    0    0    0    0    0    0    0    0    0    0\n",
      "    0    0    0    0    0    0    0    0    0    0    0    0    0    0\n",
      "    0    0    0    0    0    0    0    0    0    0    0    0    0    0\n",
      "    0    0    0    0    0    0    0    0    0    0    0    0    0    0\n",
      "    0    0    0    0    0    0    0    0    0    0    0    0    0    0\n",
      "    0    0    0    0    0    0    0    0    0    0    0    0    0    0\n",
      "    0    0    0    0    0    0    0    0    0    0    0    0    0    0\n",
      "    0    0    0    0    0    0    0    0    0    0    0    0    0    0\n",
      "    0    0    0    0    0    0    0]\n"
     ]
    }
   ],
   "source": [
    "print(X_train_padded[0])"
   ]
  },
  {
   "cell_type": "code",
   "execution_count": null,
   "id": "cc5a068d",
   "metadata": {},
   "outputs": [],
   "source": []
  },
  {
   "cell_type": "markdown",
   "id": "40532b1a",
   "metadata": {},
   "source": [
    "#### สร้างตัวจำแนก classifier โดยเลือกใช้ (Deep) Neural Networks"
   ]
  },
  {
   "cell_type": "code",
   "execution_count": 320,
   "id": "25a131b6",
   "metadata": {},
   "outputs": [
    {
     "name": "stdout",
     "output_type": "stream",
     "text": [
      "Model: \"sequential\"\n",
      "_________________________________________________________________\n",
      " Layer (type)                Output Shape              Param #   \n",
      "=================================================================\n",
      " embedding (Embedding)       (None, 217, 100)          5087000   \n",
      "                                                                 \n",
      " flatten (Flatten)           (None, 21700)             0         \n",
      "                                                                 \n",
      " dense (Dense)               (None, 10)                217010    \n",
      "                                                                 \n",
      " dropout (Dropout)           (None, 10)                0         \n",
      "                                                                 \n",
      " dense_1 (Dense)             (None, 1)                 11        \n",
      "                                                                 \n",
      "=================================================================\n",
      "Total params: 5304021 (20.23 MB)\n",
      "Trainable params: 5304021 (20.23 MB)\n",
      "Non-trainable params: 0 (0.00 Byte)\n",
      "_________________________________________________________________\n"
     ]
    }
   ],
   "source": [
    "from keras.models import Sequential\n",
    "from keras.layers import Embedding\n",
    "from keras.layers import Dense\n",
    "from keras.layers import Flatten\n",
    "from tensorflow.keras.backend import clear_session\n",
    "from IPython.display import Image\n",
    "\n",
    "clear_session()\n",
    "\n",
    "input_dimension = 50870 # based on total amount of vocabulary\n",
    "\n",
    "model = Sequential()\n",
    "\n",
    "# adding layers on top of one another\n",
    "\n",
    "model.add(Embedding(input_dim=input_dimension , output_dim=100, input_length=max_len))#embedding layer\n",
    "#consider output_dimension as hyperparameter ,then 128 was the best tunning value of output_dim \n",
    "model.add(Flatten()) #layer 1(flatten layer)\n",
    "model.add(Dense(10, activation=\"relu\"))\n",
    "model.add(Dropout(0.25))\n",
    "# model.add(Dense(10, activation=\"relu\"))\n",
    "# model.add(Dropout(0.25))\n",
    "model.add(Dense(1, activation='sigmoid')) # dense layer , use sigmoid function to produce 1 or 0 output\n",
    "\n",
    "model.compile(optimizer='adam',\n",
    "              loss='binary_crossentropy',\n",
    "              metrics=['accuracy']) # use binary_crossentropy loss function for binary target classification\n",
    "model.summary()\n",
    "\n"
   ]
  },
  {
   "cell_type": "markdown",
   "id": "144206b3",
   "metadata": {},
   "source": [
    "### Model Architecture"
   ]
  },
  {
   "cell_type": "code",
   "execution_count": 21,
   "id": "218bd838",
   "metadata": {},
   "outputs": [
    {
     "data": {
      "image/png": "[encoded data removed]",
      "text/plain": [
       "<IPython.core.display.Image object>"
      ]
     },
     "execution_count": 21,
     "metadata": {},
     "output_type": "execute_result"
    }
   ],
   "source": [
    "Image(filename='/Users/darasroin/Downloads/embeddinglayer.png')"
   ]
  },
  {
   "cell_type": "code",
   "execution_count": 321,
   "id": "497f3526",
   "metadata": {},
   "outputs": [
    {
     "name": "stdout",
     "output_type": "stream",
     "text": [
      "Epoch 1/5\n",
      "1213/1213 [==============================] - 53s 43ms/step - loss: 0.4610 - accuracy: 0.7432 - val_loss: 0.3232 - val_accuracy: 0.8775\n",
      "Epoch 2/5\n",
      "1213/1213 [==============================] - 53s 43ms/step - loss: 0.3553 - accuracy: 0.8458 - val_loss: 0.3075 - val_accuracy: 0.8788\n",
      "Epoch 3/5\n",
      "1213/1213 [==============================] - 52s 43ms/step - loss: 0.3049 - accuracy: 0.8782 - val_loss: 0.3235 - val_accuracy: 0.8751\n",
      "Epoch 4/5\n",
      "1213/1213 [==============================] - 54s 45ms/step - loss: 0.2614 - accuracy: 0.8904 - val_loss: 0.3393 - val_accuracy: 0.8686\n",
      "Epoch 5/5\n",
      "1213/1213 [==============================] - 50s 42ms/step - loss: 0.2079 - accuracy: 0.9228 - val_loss: 0.4134 - val_accuracy: 0.8635\n"
     ]
    }
   ],
   "source": [
    "score = model.fit(x=X_train_padded, y= y_train, \n",
    "                      epochs=5,\n",
    "                     verbose=True,\n",
    "                     validation_data=(X_test_padded, y_test),\n",
    "                     batch_size=100)"
   ]
  },
  {
   "cell_type": "code",
   "execution_count": 167,
   "id": "3cd0dede",
   "metadata": {},
   "outputs": [],
   "source": [
    "import matplotlib.pyplot as plt\n",
    "plt.style.use('ggplot')\n",
    "\n",
    "def plot_history(history):\n",
    "    acc = history.history['accuracy']\n",
    "    val_acc = history.history['val_accuracy']\n",
    "    loss = history.history['loss']\n",
    "    val_loss = history.history['val_loss']\n",
    "    x = range(1, len(acc) + 1)\n",
    "\n",
    "    plt.figure(figsize=(12, 5))\n",
    "    plt.subplot(1, 2, 1)\n",
    "    plt.plot(x, acc, 'b', label='Training acc')\n",
    "    plt.plot(x, val_acc, 'r', label='Validation acc')\n",
    "    plt.title('Training and validation accuracy')\n",
    "    plt.legend()\n",
    "    plt.subplot(1, 2, 2)\n",
    "    plt.plot(x, loss, 'b', label='Training loss')\n",
    "    plt.plot(x, val_loss, 'r', label='Validation loss')\n",
    "    plt.title('Training and validation loss')\n",
    "    plt.legend()"
   ]
  },
  {
   "cell_type": "code",
   "execution_count": 322,
   "id": "3efebcd7",
   "metadata": {
    "scrolled": true
   },
   "outputs": [
    {
     "data": {
      "image/png": "[encoded data removed]",
      "text/plain": [
       "<Figure size 864x360 with 2 Axes>"
      ]
     },
     "metadata": {},
     "output_type": "display_data"
    }
   ],
   "source": [
    "plot_history(score)"
   ]
  },
  {
   "cell_type": "code",
   "execution_count": 324,
   "id": "8c4de49d",
   "metadata": {},
   "outputs": [
    {
     "name": "stdout",
     "output_type": "stream",
     "text": [
      "Training Accuracy: 0.9480\n",
      "Testing Accuracy:  0.8635\n"
     ]
    }
   ],
   "source": [
    "loss, accuracy = model.evaluate(X_train_padded, y_train, verbose=False)\n",
    "print(\"Training Accuracy: {:.4f}\".format(accuracy))\n",
    "loss, accuracy = model.evaluate(X_test_padded, y_test, verbose=False)\n",
    "print(\"Testing Accuracy:  {:.4f}\".format(accuracy))"
   ]
  },
  {
   "cell_type": "code",
   "execution_count": 327,
   "id": "2acb1add",
   "metadata": {},
   "outputs": [
    {
     "name": "stdout",
     "output_type": "stream",
     "text": [
      "Model: \"sequential\"\n",
      "_________________________________________________________________\n",
      " Layer (type)                Output Shape              Param #   \n",
      "=================================================================\n",
      " embedding (Embedding)       (None, 217, 100)          3573100   \n",
      "                                                                 \n",
      " conv1d (Conv1D)             (None, 213, 64)           32064     \n",
      "                                                                 \n",
      " dropout (Dropout)           (None, 213, 64)           0         \n",
      "                                                                 \n",
      " global_max_pooling1d (Glob  (None, 64)                0         \n",
      " alMaxPooling1D)                                                 \n",
      "                                                                 \n",
      " dense (Dense)               (None, 10)                650       \n",
      "                                                                 \n",
      " dense_1 (Dense)             (None, 1)                 11        \n",
      "                                                                 \n",
      "=================================================================\n",
      "Total params: 3605825 (13.76 MB)\n",
      "Trainable params: 3605825 (13.76 MB)\n",
      "Non-trainable params: 0 (0.00 Byte)\n",
      "_________________________________________________________________\n"
     ]
    }
   ],
   "source": [
    "import tensorflow as tf\n",
    "from keras.models import Sequential\n",
    "from keras.layers import Embedding\n",
    "from keras.layers import Dense\n",
    "from keras.layers import GlobalMaxPool1D, GlobalMaxPool2D\n",
    "from tensorflow.keras.layers import Conv1D, Conv2D\n",
    "from tensorflow.keras.backend import clear_session\n",
    "from keras.layers import Dense, Dropout\n",
    "clear_session()\n",
    "\n",
    "input_dimension = 35731 # based on total amount of vocabulary\n",
    "\n",
    "model = Sequential()\n",
    "\n",
    "# adding layers on top of one another\n",
    "\n",
    "model.add(Embedding(input_dim=input_dimension , output_dim=100, input_length=max_len))#embedding layer\n",
    "#consider output_dimension as hyperparameter ,then 128 was the best tunning value of output_dim \n",
    "\n",
    "model.add(Conv1D(64 , 5 , activation='relu')) # to extract important features into smaller scale... \n",
    "model.add(Dropout(0.5))\n",
    "model.add(GlobalMaxPool1D())#layer 1(Global Max Pool)\n",
    "\n",
    "model.add(Dense(10, activation = 'relu' ))\n",
    "# model.add(Dropout(0.5))\n",
    "\n",
    "model.add(Dense(1, activation='sigmoid')) # dense layer , use sigmoid function to produce 1 or 0 output\n",
    "\n",
    "model.compile(optimizer='adam',\n",
    "              loss='binary_crossentropy',\n",
    "              metrics=['accuracy']) # use binary_crossentropy loss function for binary target classification\n",
    "model.summary()\n",
    "\n",
    "# parameters calculation\n",
    "# embedding layer : 29853 x 100\n",
    "# conv1d : "
   ]
  },
  {
   "cell_type": "code",
   "execution_count": 328,
   "id": "95f3f158",
   "metadata": {},
   "outputs": [
    {
     "name": "stdout",
     "output_type": "stream",
     "text": [
      "Epoch 1/5\n",
      "1213/1213 [==============================] - 100s 82ms/step - loss: 0.3421 - accuracy: 0.8592 - val_loss: 0.3438 - val_accuracy: 0.8743\n",
      "Epoch 2/5\n",
      "1213/1213 [==============================] - 107s 88ms/step - loss: 0.2720 - accuracy: 0.8933 - val_loss: 0.3343 - val_accuracy: 0.8727\n",
      "Epoch 3/5\n",
      "1213/1213 [==============================] - 107s 88ms/step - loss: 0.2321 - accuracy: 0.9114 - val_loss: 0.3303 - val_accuracy: 0.8706\n",
      "Epoch 4/5\n",
      "1213/1213 [==============================] - 108s 89ms/step - loss: 0.1951 - accuracy: 0.9255 - val_loss: 0.3393 - val_accuracy: 0.8675\n",
      "Epoch 5/5\n",
      "1213/1213 [==============================] - 110s 91ms/step - loss: 0.1633 - accuracy: 0.9373 - val_loss: 0.3643 - val_accuracy: 0.8625\n"
     ]
    }
   ],
   "source": [
    "score = model.fit(x=X_train_padded, y= y_train, \n",
    "                      epochs=5,\n",
    "                     verbose=True,\n",
    "                     validation_data=(X_test_padded, y_test),\n",
    "                     batch_size=100)"
   ]
  },
  {
   "cell_type": "code",
   "execution_count": 329,
   "id": "2f0aa04c",
   "metadata": {
    "scrolled": true
   },
   "outputs": [
    {
     "data": {
      "image/png": "[encoded data removed]",
      "text/plain": [
       "<Figure size 864x360 with 2 Axes>"
      ]
     },
     "metadata": {},
     "output_type": "display_data"
    }
   ],
   "source": [
    "plot_history(score)"
   ]
  },
  {
   "cell_type": "code",
   "execution_count": 332,
   "id": "305094a4",
   "metadata": {},
   "outputs": [
    {
     "name": "stdout",
     "output_type": "stream",
     "text": [
      "1263/1263 [==============================] - 4s 3ms/step\n"
     ]
    }
   ],
   "source": [
    "predicted = model.predict(X_test_padded)"
   ]
  },
  {
   "cell_type": "code",
   "execution_count": 335,
   "id": "c863c7b7",
   "metadata": {},
   "outputs": [],
   "source": [
    "predicted = [1 if predict >= 0.5 else 0 for predict in predicted]"
   ]
  },
  {
   "cell_type": "code",
   "execution_count": 338,
   "id": "1389aa9b",
   "metadata": {},
   "outputs": [
    {
     "data": {
      "image/png": "[encoded data removed]",
      "text/plain": [
       "<Figure size 576x432 with 2 Axes>"
      ]
     },
     "metadata": {},
     "output_type": "display_data"
    }
   ],
   "source": [
    "import numpy as np\n",
    "import matplotlib.pyplot as plt\n",
    "import seaborn as sns\n",
    "from sklearn.metrics import confusion_matrix\n",
    "\n",
    "cm = confusion_matrix(y_test, predicted)\n",
    "\n",
    "# Plot confusion matrix\n",
    "plt.figure(figsize=(8, 6))\n",
    "sns.set(font_scale=1.2)  # Adjust font size\n",
    "sns.heatmap(cm, annot=True, fmt=\"d\", cmap=\"Blues\", xticklabels=np.unique(y_test), yticklabels=np.unique(y_test))\n",
    "plt.xlabel('Predicted Labels')\n",
    "plt.ylabel('True Labels')\n",
    "plt.title('Confusion Matrix of MLP')\n",
    "plt.show()"
   ]
  },
  {
   "cell_type": "code",
   "execution_count": 339,
   "id": "0d20087c",
   "metadata": {},
   "outputs": [
    {
     "name": "stdout",
     "output_type": "stream",
     "text": [
      "Training Accuracy: 0.9600\n",
      "Testing Accuracy:  0.8625\n"
     ]
    }
   ],
   "source": [
    "loss, accuracy = model.evaluate(X_train_padded, y_train, verbose=False)\n",
    "print(\"Training Accuracy: {:.4f}\".format(accuracy))\n",
    "loss, accuracy = model.evaluate(X_test_padded, y_test, verbose=False)\n",
    "print(\"Testing Accuracy:  {:.4f}\".format(accuracy))"
   ]
  },
  {
   "cell_type": "code",
   "execution_count": null,
   "id": "011341bb",
   "metadata": {},
   "outputs": [],
   "source": []
  }
 ],
 "metadata": {
  "kernelspec": {
   "display_name": "Python 3 (ipykernel)",
   "language": "python",
   "name": "python3"
  },
  "language_info": {
   "codemirror_mode": {
    "name": "ipython",
    "version": 3
   },
   "file_extension": ".py",
   "mimetype": "text/x-python",
   "name": "python",
   "nbconvert_exporter": "python",
   "pygments_lexer": "ipython3",
   "version": "3.9.12"
  }
 },
 "nbformat": 4,
 "nbformat_minor": 5
}
