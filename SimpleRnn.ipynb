{
 "cells": [
  {
   "cell_type": "code",
   "execution_count": 1,
   "id": "1430a5ea",
   "metadata": {},
   "outputs": [
    {
     "name": "stderr",
     "output_type": "stream",
     "text": [
      "/opt/anaconda3/lib/python3.9/site-packages/pandas/core/computation/expressions.py:21: UserWarning: Pandas requires version '2.8.4' or newer of 'numexpr' (version '2.8.1' currently installed).\n",
      "  from pandas.core.computation.check import NUMEXPR_INSTALLED\n",
      "/opt/anaconda3/lib/python3.9/site-packages/pandas/core/arrays/masked.py:60: UserWarning: Pandas requires version '1.3.6' or newer of 'bottleneck' (version '1.3.4' currently installed).\n",
      "  from pandas.core import (\n"
     ]
    }
   ],
   "source": [
    "import pandas as pd\n",
    "dataset = pd.read_csv(\"dataset.csv\")"
   ]
  },
  {
   "cell_type": "code",
   "execution_count": 2,
   "id": "ef5a0754",
   "metadata": {},
   "outputs": [
    {
     "name": "stdout",
     "output_type": "stream",
     "text": [
      "Class Distribution Before Balancing:\n",
      "target\n",
      "0    1225312\n",
      "1      80810\n",
      "Name: count, dtype: int64\n",
      "1\n",
      "80810\n",
      "\n",
      "Class Distribution After Balancing:\n",
      "target\n",
      "0    80810\n",
      "1    80810\n",
      "Name: count, dtype: int64\n"
     ]
    }
   ],
   "source": [
    "import pandas as pd\n",
    "import numpy as np\n",
    "\n",
    "\n",
    "\n",
    "# Check class distribution\n",
    "class_distribution = dataset['target'].value_counts()\n",
    "print(\"Class Distribution Before Balancing:\")\n",
    "print(class_distribution)\n",
    "\n",
    "# Determine the majority class and minority class\n",
    "majority_class = class_distribution.idxmax()\n",
    "minority_class = class_distribution.idxmin()\n",
    "print(minority_class)\n",
    "\n",
    "# Get the number of samples in the majority class\n",
    "majority_class_count = class_distribution[majority_class]\n",
    "minority_class_count = class_distribution[minority_class]\n",
    "print(minority_class_count)\n",
    "\n",
    "# Find indices of majority class samples\n",
    "majority_indices = dataset[dataset['target'] == majority_class].index\n",
    "\n",
    "# Randomly select majority class samples to drop\n",
    "drop_indices = np.random.choice(majority_indices, size=majority_class_count - minority_class_count, replace=False)\n",
    "\n",
    "# Drop selected majority class samples\n",
    "balanced_df = dataset.drop(drop_indices)\n",
    "\n",
    "# Check class distribution after balancing\n",
    "balanced_class_distribution = balanced_df['target'].value_counts()\n",
    "print(\"\\nClass Distribution After Balancing:\")\n",
    "print(balanced_class_distribution)\n"
   ]
  },
  {
   "cell_type": "code",
   "execution_count": 3,
   "id": "5b4f7c27",
   "metadata": {},
   "outputs": [],
   "source": [
    "#preprocessing text\n",
    "import nltk\n",
    "from nltk.tokenize import word_tokenize # \n",
    "from nltk.corpus import stopwords\n",
    "from nltk.stem import PorterStemmer\n",
    "\n",
    "# clean data และจัดการข้อความให้อยู่ในรูปแบบที่ง่ายต่อการเรียนรู้\n",
    "# เราจะใช้ library nltk ทำขั้นตอน preprocess ดังนี้\n",
    "# tokenization\n",
    "# stopword removal\n",
    "# stemming by using porter stemmer\n",
    "\n",
    "porter = PorterStemmer()\n",
    "def preprocess_text(text):\n",
    "    tokens = word_tokenize(text)\n",
    "    stop_words = set(stopwords.words(\"english\"))\n",
    "    filtered_tokens = [token.lower() for token in tokens if token.isalpha() and token.lower() not in stop_words]\n",
    "#     print(filtered_tokens)\n",
    "    return \" \".join(filtered_tokens)\n",
    "\n",
    "# preprocess all training data\n",
    "X_preprocessed = [preprocess_text(text) for text in balanced_df['question_text']]"
   ]
  },
  {
   "cell_type": "code",
   "execution_count": 4,
   "id": "f8074ac2",
   "metadata": {},
   "outputs": [
    {
     "name": "stderr",
     "output_type": "stream",
     "text": [
      "2024-03-07 01:27:05.393677: I tensorflow/core/platform/cpu_feature_guard.cc:182] This TensorFlow binary is optimized to use available CPU instructions in performance-critical operations.\n",
      "To enable the following instructions: AVX2 FMA, in other operations, rebuild TensorFlow with the appropriate compiler flags.\n"
     ]
    }
   ],
   "source": [
    "from sklearn.feature_extraction.text import CountVectorizer\n",
    "from sklearn.model_selection import train_test_split\n",
    "\n",
    "# #divide dataset into to two pieces cosisted of training part and test part\n",
    "sentences_train, sentences_test, y_train, y_test = train_test_split(X_preprocessed,balanced_df['target'] , \n",
    "                                                                    test_size=0.25,shuffle= False ,\n",
    "                                                                   random_state=100)\n",
    "\n",
    "\n",
    "# ## สร้างคำศัพท์ที่ใช้เป็น feature จากข้อมูล train\n",
    "vectorizer = CountVectorizer()\n",
    "vectorizer.fit(sentences_train)\n",
    "\n",
    "X_train = vectorizer.transform(sentences_train)\n",
    "X_test = vectorizer.transform(sentences_test)\n",
    "from keras.preprocessing.text import Tokenizer\n",
    "\n",
    "tokenizer = Tokenizer(num_words=10000)\n",
    "tokenizer.fit_on_texts(sentences_train)\n",
    "\n",
    "X_train = tokenizer.texts_to_sequences(sentences_train)\n",
    "X_test = tokenizer.texts_to_sequences(sentences_test)\n",
    "\n",
    "vocab_size = len(tokenizer.word_index) + 1  # Adding 1 because of reserved 0 index\n"
   ]
  },
  {
   "cell_type": "code",
   "execution_count": 5,
   "id": "b5e93c77",
   "metadata": {},
   "outputs": [
    {
     "name": "stdout",
     "output_type": "stream",
     "text": [
      "50716\n"
     ]
    }
   ],
   "source": [
    "print(vocab_size)"
   ]
  },
  {
   "cell_type": "code",
   "execution_count": 6,
   "id": "17d4704a",
   "metadata": {},
   "outputs": [
    {
     "name": "stdout",
     "output_type": "stream",
     "text": [
      "X_train vector shape = (121215, 217)\n",
      "X_test vector shape = (40405, 217)\n"
     ]
    }
   ],
   "source": [
    "from keras.preprocessing import sequence\n",
    "\n",
    "max_len = 217 # most of sentences' length statistically lay between 10-100, but this case will choose 217 max values\n",
    "\n",
    "X_train_padded = sequence.pad_sequences(X_train,padding='post', maxlen= max_len)\n",
    "X_test_padded = sequence.pad_sequences(X_test,padding='post', maxlen = max_len)\n",
    "\n",
    "print(\"X_train vector shape = {}\".format(X_train_padded.shape))\n",
    "print(\"X_test vector shape = {}\".format(X_test_padded.shape))"
   ]
  },
  {
   "cell_type": "code",
   "execution_count": 13,
   "id": "cbd94811",
   "metadata": {},
   "outputs": [
    {
     "name": "stdout",
     "output_type": "stream",
     "text": [
      "Model: \"sequential\"\n",
      "_________________________________________________________________\n",
      " Layer (type)                Output Shape              Param #   \n",
      "=================================================================\n",
      " embedding (Embedding)       (None, 217, 100)          5071600   \n",
      "                                                                 \n",
      " simple_rnn (SimpleRNN)      (None, 64)                10560     \n",
      "                                                                 \n",
      " dense (Dense)               (None, 128)               8320      \n",
      "                                                                 \n",
      " dropout (Dropout)           (None, 128)               0         \n",
      "                                                                 \n",
      " dense_1 (Dense)             (None, 1)                 129       \n",
      "                                                                 \n",
      "=================================================================\n",
      "Total params: 5090609 (19.42 MB)\n",
      "Trainable params: 5090609 (19.42 MB)\n",
      "Non-trainable params: 0 (0.00 Byte)\n",
      "_________________________________________________________________\n"
     ]
    }
   ],
   "source": [
    "from keras.models import Sequential\n",
    "from keras.layers import Dense, SimpleRNN, Bidirectional, Embedding, Dropout\n",
    "from tensorflow.keras.backend import clear_session\n",
    "clear_session()\n",
    "\n",
    "input_dimension = 50716 # based on total amount of vocabulary\n",
    "\n",
    "model = Sequential()\n",
    "\n",
    "# adding layers on top of one another\n",
    "\n",
    "model.add(Embedding(input_dim=input_dimension , output_dim=100, input_length=max_len))#embedding layer\n",
    "#consider output_dimension as hyperparameter ,then 100 was the best tunning value of output_dim \n",
    "\n",
    "model.add(SimpleRNN(64, activation= 'tanh'))\n",
    "\n",
    "# model.add(Dropout(0.5))\n",
    "\n",
    "model.add(Dense(128, activation = 'relu' ))# second layer, dense layer using relu as activation function  \n",
    "model.add(Dropout(0.5)) \n",
    "# model.add(Dense(20, activation = 'relu' ))\n",
    "model.add(Dense(1, activation='sigmoid')) # dense layer , use sigmoid function to produce 1 or 0 output\n",
    "# we'll use softmax activation function for multiclass classification\n",
    "model.compile(optimizer='adam',\n",
    "              loss='binary_crossentropy',\n",
    "              metrics=['accuracy']) # use binary_crossentropy loss function for binary target classification\n",
    "model.summary()"
   ]
  },
  {
   "cell_type": "code",
   "execution_count": 16,
   "id": "99ae2ac5",
   "metadata": {},
   "outputs": [
    {
     "name": "stdout",
     "output_type": "stream",
     "text": [
      "1213/1213 [==============================] - 157s 130ms/step - loss: 0.3841 - accuracy: 0.8549 - val_loss: 0.3999 - val_accuracy: 0.8527\n"
     ]
    }
   ],
   "source": [
    "score = model.fit(x=X_train_padded, y= y_train, \n",
    "                      epochs=1,\n",
    "                     verbose=True,\n",
    "                     validation_data=(X_test_padded, y_test),\n",
    "                     batch_size=100)"
   ]
  },
  {
   "cell_type": "code",
   "execution_count": 17,
   "id": "bd60f8c6",
   "metadata": {},
   "outputs": [
    {
     "name": "stdout",
     "output_type": "stream",
     "text": [
      "1263/1263 [==============================] - 12s 9ms/step\n"
     ]
    }
   ],
   "source": [
    "predicted = model.predict(X_test_padded)"
   ]
  },
  {
   "cell_type": "code",
   "execution_count": 18,
   "id": "e08c41d1",
   "metadata": {},
   "outputs": [],
   "source": [
    "predicted = [1 if predict >= 0.5 else 0 for predict in predicted]"
   ]
  },
  {
   "cell_type": "code",
   "execution_count": 20,
   "id": "6e2b1ce4",
   "metadata": {},
   "outputs": [
    {
     "data": {
      "image/png": "[encoded data removed]",
      "text/plain": [
       "<Figure size 576x432 with 2 Axes>"
      ]
     },
     "metadata": {},
     "output_type": "display_data"
    }
   ],
   "source": [
    "import numpy as np\n",
    "import matplotlib.pyplot as plt\n",
    "import seaborn as sns\n",
    "from sklearn.metrics import confusion_matrix\n",
    "\n",
    "cm = confusion_matrix(y_test, predicted)\n",
    "\n",
    "# Plot confusion matrix\n",
    "plt.figure(figsize=(8, 6))\n",
    "sns.set(font_scale=1.2)  # Adjust font size\n",
    "sns.heatmap(cm, annot=True, fmt=\"d\", cmap=\"Blues\", xticklabels=np.unique(y_test), yticklabels=np.unique(y_test))\n",
    "plt.xlabel('Predicted Labels')\n",
    "plt.ylabel('True Labels')\n",
    "plt.title('Confusion Matrix of Simple RNN')\n",
    "plt.show()"
   ]
  },
  {
   "cell_type": "code",
   "execution_count": 21,
   "id": "7e802a89",
   "metadata": {},
   "outputs": [
    {
     "name": "stdout",
     "output_type": "stream",
     "text": [
      "Training Accuracy: 0.8897\n",
      "Testing Accuracy:  0.8527\n"
     ]
    }
   ],
   "source": [
    "loss, accuracy = model.evaluate(X_train_padded, y_train, verbose=False)\n",
    "print(\"Training Accuracy: {:.4f}\".format(accuracy))\n",
    "loss, accuracy = model.evaluate(X_test_padded, y_test, verbose=False)\n",
    "print(\"Testing Accuracy:  {:.4f}\".format(accuracy))"
   ]
  },
  {
   "cell_type": "code",
   "execution_count": null,
   "id": "b63ecde6",
   "metadata": {},
   "outputs": [],
   "source": []
  }
 ],
 "metadata": {
  "kernelspec": {
   "display_name": "Python 3 (ipykernel)",
   "language": "python",
   "name": "python3"
  },
  "language_info": {
   "codemirror_mode": {
    "name": "ipython",
    "version": 3
   },
   "file_extension": ".py",
   "mimetype": "text/x-python",
   "name": "python",
   "nbconvert_exporter": "python",
   "pygments_lexer": "ipython3",
   "version": "3.9.12"
  }
 },
 "nbformat": 4,
 "nbformat_minor": 5
}
